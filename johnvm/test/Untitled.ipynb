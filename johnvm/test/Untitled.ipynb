{
 "cells": [
  {
   "cell_type": "code",
   "execution_count": 3,
   "id": "0a034e20",
   "metadata": {},
   "outputs": [],
   "source": [
    "x = 1.0\n",
    "y = 3.0\n",
    "z = 2.0\n",
    "ocx = 1.0\n",
    "ocy = 2.0\n",
    "ocz = 4.0\n",
    "ocpx = 1.0\n",
    "ocpy = 5.0\n",
    "ocpz = 1.0\n",
    "snx = 5.0\n",
    "sny = 7.0\n",
    "snz = 9.0"
   ]
  },
  {
   "cell_type": "code",
   "execution_count": 7,
   "id": "48a7c201",
   "metadata": {},
   "outputs": [
    {
     "data": {
      "text/plain": [
       "-773.0"
      ]
     },
     "execution_count": 7,
     "metadata": {},
     "output_type": "execute_result"
    }
   ],
   "source": [
    "-(1.0/24.0)*x*y*z*(\n",
    "        + 12. * (-2.0 + ocx**2 + ocy**2 + ocz**2) * (ocpx*snx + ocpy*sny + ocpz*snz)\n",
    "        - 6.0 * ((-2.0 + 2.0 * ocpx * ocx + ocx**2 + ocy**2 + ocz**2) * snx + 2.0 * ocx * (ocpy * sny + ocpz * snz)) * x\n",
    "        + 4.0 * (ocpx*snx + 2.0 * ocx*snx + ocpy * sny + ocpz*snz) * x**2 - 3.0 * snx * x**3\n",
    "        - 6.0 * (2.0 * ocpx * ocy * snx + (-2.0 + ocx**2 + 2.0 * ocpy * ocy + ocy**2 + ocz**2) * sny + 2.0 * ocpz * ocy * snz) * y\n",
    "        + 6.0 * (ocy*snx + ocx*sny)*x*y\n",
    "        - 2.0 * sny*x**2*y + 4.0*(ocpx*snx + ocpy*sny + 2.0 * ocy * sny + ocpz*snz) * y**2\n",
    "        - 2.0 * snx*x*y**2 - 3.0*sny*y**3\n",
    "        - 6.0 * (2.0*ocpx*ocz*snx + 2.0*ocpy*ocz*sny +\n",
    "                 (-2.0 + ocx**2 + ocy**2 + 2*ocpz*ocz + ocz**2)*snz)*z\n",
    "        + 6.0 * (ocz*snx + ocx*snz)*x*z - 2.0*snz*x**2*z +\n",
    "        6.0*(ocz*sny + ocy*snz)*y*z - 2.0*snz*y**2*z\n",
    "        + 4.0 * (ocpx*snx + ocpy*sny + (ocpz + 2.0 * ocz)*snz) *\n",
    "        z**2 - 2.0*snx*x*z**2 - 2.0*sny*y*z**2 - 3.0*snz*z**3\n",
    "    )"
   ]
  },
  {
   "cell_type": "code",
   "execution_count": 10,
   "id": "241ac929",
   "metadata": {},
   "outputs": [
    {
     "data": {
      "text/plain": [
       "64"
      ]
     },
     "execution_count": 10,
     "metadata": {},
     "output_type": "execute_result"
    }
   ],
   "source": [
    "56 \\\n",
    "+ 8"
   ]
  },
  {
   "cell_type": "code",
   "execution_count": 11,
   "id": "0272ffb2",
   "metadata": {},
   "outputs": [],
   "source": [
    "import numpy as np"
   ]
  },
  {
   "cell_type": "code",
   "execution_count": 14,
   "id": "ab2741ac",
   "metadata": {},
   "outputs": [
    {
     "data": {
      "text/plain": [
       "0.004031441804149937"
      ]
     },
     "execution_count": 14,
     "metadata": {},
     "output_type": "execute_result"
    }
   ],
   "source": [
    "np.power(2*np.pi, -3.00)"
   ]
  },
  {
   "cell_type": "code",
   "execution_count": 18,
   "id": "ce95714f",
   "metadata": {},
   "outputs": [],
   "source": [
    "xmin = 8\n",
    "xmax = 5\n",
    "ymin = 2\n",
    "ymax = 5\n",
    "zmin = 2\n",
    "zmax = 5"
   ]
  },
  {
   "cell_type": "code",
   "execution_count": 19,
   "id": "025bbd70",
   "metadata": {},
   "outputs": [],
   "source": [
    "exists = (xmin < xmax and ymin < ymax and zmin < zmax)"
   ]
  },
  {
   "cell_type": "code",
   "execution_count": 20,
   "id": "3ac8752f",
   "metadata": {},
   "outputs": [
    {
     "data": {
      "text/plain": [
       "False"
      ]
     },
     "execution_count": 20,
     "metadata": {},
     "output_type": "execute_result"
    }
   ],
   "source": [
    "exists"
   ]
  },
  {
   "cell_type": "code",
   "execution_count": 25,
   "id": "e74f30e0",
   "metadata": {},
   "outputs": [],
   "source": [
    "opcontents = []"
   ]
  },
  {
   "cell_type": "code",
   "execution_count": 27,
   "id": "5ba4d6e3",
   "metadata": {},
   "outputs": [
    {
     "name": "stdout",
     "output_type": "stream",
     "text": [
      "hey!\n"
     ]
    }
   ],
   "source": [
    "if not opcontents:\n",
    "    print(\"hey!\")"
   ]
  },
  {
   "cell_type": "code",
   "execution_count": 32,
   "id": "c9d56bda",
   "metadata": {},
   "outputs": [],
   "source": [
    "x = 8\n",
    "y = 1\n",
    "z = 2\n",
    "ow = 5\n",
    "ocpx = 4\n",
    "ocpy = 3\n",
    "ocpz = 6"
   ]
  },
  {
   "cell_type": "code",
   "execution_count": 33,
   "id": "33da365b",
   "metadata": {},
   "outputs": [
    {
     "data": {
      "text/plain": [
       "-4.16"
      ]
     },
     "execution_count": 33,
     "metadata": {},
     "output_type": "execute_result"
    }
   ],
   "source": [
    "1.0/(6.0 * ow**2) * (x*y*z) * \\\n",
    "        (\n",
    "            + x**2 + y**2 + z**2\n",
    "            - 3.0 * (\n",
    "                + ocpx * x\n",
    "                + ocpy * y\n",
    "                + ocpz * z\n",
    "            )\n",
    "            + 3.0 * (ocpx**2 + ocpy**2 + ocpz**2)\n",
    "            - 6.0 * ow**2\n",
    "    )"
   ]
  },
  {
   "cell_type": "code",
   "execution_count": 36,
   "id": "ca605092",
   "metadata": {},
   "outputs": [
    {
     "name": "stdout",
     "output_type": "stream",
     "text": [
      "1 1\n",
      "1 2\n",
      "1 3\n",
      "1 4\n",
      "2 2\n",
      "2 3\n",
      "2 4\n",
      "3 3\n",
      "3 4\n",
      "4 4\n"
     ]
    }
   ],
   "source": [
    "for i in range(1,5):\n",
    "    for j in range(i, 5):\n",
    "        print(i, j)"
   ]
  },
  {
   "cell_type": "code",
   "execution_count": 40,
   "id": "713394b5",
   "metadata": {},
   "outputs": [
    {
     "data": {
      "image/png": "[encoded data removed]",
      "text/plain": [
       "<Figure size 432x288 with 1 Axes>"
      ]
     },
     "metadata": {
      "needs_background": "light"
     },
     "output_type": "display_data"
    }
   ],
   "source": [
    "import matplotlib.pyplot as plt\n",
    "xlist = np.linspace(-3.0, 3.0, 100)\n",
    "ylist = np.linspace(-3.0, 3.0, 100)\n",
    "X, Y = np.meshgrid(xlist, ylist)\n",
    "Z = np.sqrt(X**2 + Y**2)\n",
    "fig,ax=plt.subplots(1,1)\n",
    "cp = ax.contourf(X, Y, Z)"
   ]
  },
  {
   "cell_type": "code",
   "execution_count": 38,
   "id": "845893a4",
   "metadata": {},
   "outputs": [
    {
     "data": {
      "text/plain": [
       "array([[-3.        , -2.93939394, -2.87878788, ...,  2.87878788,\n",
       "         2.93939394,  3.        ],\n",
       "       [-3.        , -2.93939394, -2.87878788, ...,  2.87878788,\n",
       "         2.93939394,  3.        ],\n",
       "       [-3.        , -2.93939394, -2.87878788, ...,  2.87878788,\n",
       "         2.93939394,  3.        ],\n",
       "       ...,\n",
       "       [-3.        , -2.93939394, -2.87878788, ...,  2.87878788,\n",
       "         2.93939394,  3.        ],\n",
       "       [-3.        , -2.93939394, -2.87878788, ...,  2.87878788,\n",
       "         2.93939394,  3.        ],\n",
       "       [-3.        , -2.93939394, -2.87878788, ...,  2.87878788,\n",
       "         2.93939394,  3.        ]])"
      ]
     },
     "execution_count": 38,
     "metadata": {},
     "output_type": "execute_result"
    }
   ],
   "source": [
    "X"
   ]
  },
  {
   "cell_type": "code",
   "execution_count": 42,
   "id": "9adacad6",
   "metadata": {},
   "outputs": [
    {
     "data": {
      "text/plain": [
       "True"
      ]
     },
     "execution_count": 42,
     "metadata": {},
     "output_type": "execute_result"
    }
   ],
   "source": [
    "np.abs(2) < 5 and np.abs(3) < 4"
   ]
  },
  {
   "cell_type": "code",
   "execution_count": null,
   "id": "e93b54b4",
   "metadata": {},
   "outputs": [],
   "source": []
  }
 ],
 "metadata": {
  "kernelspec": {
   "display_name": "Python 3",
   "language": "python",
   "name": "python3"
  },
  "language_info": {
   "codemirror_mode": {
    "name": "ipython",
    "version": 3
   },
   "file_extension": ".py",
   "mimetype": "text/x-python",
   "name": "python",
   "nbconvert_exporter": "python",
   "pygments_lexer": "ipython3",
   "version": "3.7.10"
  }
 },
 "nbformat": 4,
 "nbformat_minor": 5
}
